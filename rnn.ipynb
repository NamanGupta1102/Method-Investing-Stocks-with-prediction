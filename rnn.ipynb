{
  "cells": [
    {
      "cell_type": "markdown",
      "metadata": {
        "id": "view-in-github",
        "colab_type": "text"
      },
      "source": [
        "<a href=\"https://colab.research.google.com/github/NamanGupta1102/Method-Investing-Stocks-with-prediction/blob/main/rnn.ipynb\" target=\"_parent\"><img src=\"https://colab.research.google.com/assets/colab-badge.svg\" alt=\"Open In Colab\"/></a>"
      ]
    },
    {
      "cell_type": "markdown",
      "metadata": {
        "id": "xpAuMVCwfWs8"
      },
      "source": [
        "# Method of investing in the stock market using deep learning"
      ]
    },
    {
      "cell_type": "markdown",
      "metadata": {
        "id": "nxJfRe4bfYVA"
      },
      "source": [
        "## Part 1 - Data Preprocessing"
      ]
    },
    {
      "cell_type": "markdown",
      "metadata": {
        "id": "ir9zwETrfbrp"
      },
      "source": [
        "### Importing the libraries"
      ]
    },
    {
      "cell_type": "code",
      "execution_count": null,
      "metadata": {
        "id": "ZT1f24vHffuf"
      },
      "outputs": [],
      "source": [
        "import numpy as np\n",
        "import matplotlib.pyplot as plt\n",
        "import pandas as pd\n",
        "import tensorflow as tf"
      ]
    },
    {
      "cell_type": "markdown",
      "metadata": {
        "id": "nQ47JAxrgmaL"
      },
      "source": [
        "### Importing the training set"
      ]
    },
    {
      "cell_type": "code",
      "execution_count": null,
      "metadata": {
        "id": "XRkd6XmA9BL7"
      },
      "outputs": [],
      "source": [
        "dataset_train = pd.read_csv('AAPL (1).csv')\n",
        "training_set = dataset_train.iloc[:,5:6].values"
      ]
    },
    {
      "cell_type": "code",
      "source": [
        "training_set"
      ],
      "metadata": {
        "colab": {
          "base_uri": "https://localhost:8080/"
        },
        "id": "0qlTQfPpJpCK",
        "outputId": "3816651b-effa-4071-ba18-0b68ca345104"
      },
      "execution_count": null,
      "outputs": [
        {
          "output_type": "execute_result",
          "data": {
            "text/plain": [
              "array([[553.82 ],\n",
              "       [547.88 ],\n",
              "       [536.965],\n",
              "       ...,\n",
              "       [137.46 ],\n",
              "       [137.25 ],\n",
              "       [136.04 ]])"
            ]
          },
          "metadata": {},
          "execution_count": 113
        }
      ]
    },
    {
      "cell_type": "code",
      "execution_count": null,
      "metadata": {
        "colab": {
          "base_uri": "https://localhost:8080/",
          "height": 661
        },
        "id": "EEqp9N7n9BL9",
        "outputId": "727bf2ee-1b39-4a8f-c115-ac35a3b696b2"
      },
      "outputs": [
        {
          "output_type": "execute_result",
          "data": {
            "text/plain": [
              "     symbol                       date     close      high       low     open  \\\n",
              "0      AAPL  2013-01-02 00:00:00+00:00  549.0300  555.0000  541.6300  553.820   \n",
              "1      AAPL  2013-01-03 00:00:00+00:00  542.0959  549.6700  541.0000  547.880   \n",
              "2      AAPL  2013-01-04 00:00:00+00:00  527.0000  538.6299  525.8286  536.965   \n",
              "3      AAPL  2013-01-07 00:00:00+00:00  523.9000  529.3000  515.2000  522.000   \n",
              "4      AAPL  2013-01-08 00:00:00+00:00  525.3100  531.8900  521.2500  529.210   \n",
              "...     ...                        ...       ...       ...       ...      ...   \n",
              "2387   AAPL  2022-06-27 00:00:00+00:00  141.6600  143.4900  140.9650  142.695   \n",
              "2388   AAPL  2022-06-28 00:00:00+00:00  137.4400  143.4220  137.3250  142.130   \n",
              "2389   AAPL  2022-06-29 00:00:00+00:00  139.2300  140.6700  136.6700  137.460   \n",
              "2390   AAPL  2022-06-30 00:00:00+00:00  136.7200  138.3700  133.7737  137.250   \n",
              "2391   AAPL  2022-07-01 00:00:00+00:00  138.9300  139.0400  135.6600  136.040   \n",
              "\n",
              "        volume    adjClose     adjHigh      adjLow     adjOpen  adjVolume  \\\n",
              "0     20018500   16.914930   17.098858   16.686945   17.062504  560518560   \n",
              "1     12605900   16.701299   16.934648   16.667536   16.879500  352965552   \n",
              "2     21226200   16.236213   16.594516   16.200124   16.543222  594334194   \n",
              "3     17291300   16.140706   16.307073   15.872670   16.082169  484156884   \n",
              "4     16382400   16.184146   16.386868   16.059063   16.304301  458707658   \n",
              "...        ...         ...         ...         ...         ...        ...   \n",
              "2387  70207908  141.660000  143.490000  140.965000  142.695000   70207908   \n",
              "2388  67315328  137.440000  143.422000  137.325000  142.130000   67315328   \n",
              "2389  66242411  139.230000  140.670000  136.670000  137.460000   66242411   \n",
              "2390  98964467  136.720000  138.370000  133.773700  137.250000   98964467   \n",
              "2391  71051552  138.930000  139.040000  135.660000  136.040000   71051552   \n",
              "\n",
              "      divCash  splitFactor  \n",
              "0         0.0          1.0  \n",
              "1         0.0          1.0  \n",
              "2         0.0          1.0  \n",
              "3         0.0          1.0  \n",
              "4         0.0          1.0  \n",
              "...       ...          ...  \n",
              "2387      0.0          1.0  \n",
              "2388      0.0          1.0  \n",
              "2389      0.0          1.0  \n",
              "2390      0.0          1.0  \n",
              "2391      0.0          1.0  \n",
              "\n",
              "[2392 rows x 14 columns]"
            ],
            "text/html": [
              "\n",
              "  <div id=\"df-63a05635-7e3c-4135-b909-2b72667dd5f5\">\n",
              "    <div class=\"colab-df-container\">\n",
              "      <div>\n",
              "<style scoped>\n",
              "    .dataframe tbody tr th:only-of-type {\n",
              "        vertical-align: middle;\n",
              "    }\n",
              "\n",
              "    .dataframe tbody tr th {\n",
              "        vertical-align: top;\n",
              "    }\n",
              "\n",
              "    .dataframe thead th {\n",
              "        text-align: right;\n",
              "    }\n",
              "</style>\n",
              "<table border=\"1\" class=\"dataframe\">\n",
              "  <thead>\n",
              "    <tr style=\"text-align: right;\">\n",
              "      <th></th>\n",
              "      <th>symbol</th>\n",
              "      <th>date</th>\n",
              "      <th>close</th>\n",
              "      <th>high</th>\n",
              "      <th>low</th>\n",
              "      <th>open</th>\n",
              "      <th>volume</th>\n",
              "      <th>adjClose</th>\n",
              "      <th>adjHigh</th>\n",
              "      <th>adjLow</th>\n",
              "      <th>adjOpen</th>\n",
              "      <th>adjVolume</th>\n",
              "      <th>divCash</th>\n",
              "      <th>splitFactor</th>\n",
              "    </tr>\n",
              "  </thead>\n",
              "  <tbody>\n",
              "    <tr>\n",
              "      <th>0</th>\n",
              "      <td>AAPL</td>\n",
              "      <td>2013-01-02 00:00:00+00:00</td>\n",
              "      <td>549.0300</td>\n",
              "      <td>555.0000</td>\n",
              "      <td>541.6300</td>\n",
              "      <td>553.820</td>\n",
              "      <td>20018500</td>\n",
              "      <td>16.914930</td>\n",
              "      <td>17.098858</td>\n",
              "      <td>16.686945</td>\n",
              "      <td>17.062504</td>\n",
              "      <td>560518560</td>\n",
              "      <td>0.0</td>\n",
              "      <td>1.0</td>\n",
              "    </tr>\n",
              "    <tr>\n",
              "      <th>1</th>\n",
              "      <td>AAPL</td>\n",
              "      <td>2013-01-03 00:00:00+00:00</td>\n",
              "      <td>542.0959</td>\n",
              "      <td>549.6700</td>\n",
              "      <td>541.0000</td>\n",
              "      <td>547.880</td>\n",
              "      <td>12605900</td>\n",
              "      <td>16.701299</td>\n",
              "      <td>16.934648</td>\n",
              "      <td>16.667536</td>\n",
              "      <td>16.879500</td>\n",
              "      <td>352965552</td>\n",
              "      <td>0.0</td>\n",
              "      <td>1.0</td>\n",
              "    </tr>\n",
              "    <tr>\n",
              "      <th>2</th>\n",
              "      <td>AAPL</td>\n",
              "      <td>2013-01-04 00:00:00+00:00</td>\n",
              "      <td>527.0000</td>\n",
              "      <td>538.6299</td>\n",
              "      <td>525.8286</td>\n",
              "      <td>536.965</td>\n",
              "      <td>21226200</td>\n",
              "      <td>16.236213</td>\n",
              "      <td>16.594516</td>\n",
              "      <td>16.200124</td>\n",
              "      <td>16.543222</td>\n",
              "      <td>594334194</td>\n",
              "      <td>0.0</td>\n",
              "      <td>1.0</td>\n",
              "    </tr>\n",
              "    <tr>\n",
              "      <th>3</th>\n",
              "      <td>AAPL</td>\n",
              "      <td>2013-01-07 00:00:00+00:00</td>\n",
              "      <td>523.9000</td>\n",
              "      <td>529.3000</td>\n",
              "      <td>515.2000</td>\n",
              "      <td>522.000</td>\n",
              "      <td>17291300</td>\n",
              "      <td>16.140706</td>\n",
              "      <td>16.307073</td>\n",
              "      <td>15.872670</td>\n",
              "      <td>16.082169</td>\n",
              "      <td>484156884</td>\n",
              "      <td>0.0</td>\n",
              "      <td>1.0</td>\n",
              "    </tr>\n",
              "    <tr>\n",
              "      <th>4</th>\n",
              "      <td>AAPL</td>\n",
              "      <td>2013-01-08 00:00:00+00:00</td>\n",
              "      <td>525.3100</td>\n",
              "      <td>531.8900</td>\n",
              "      <td>521.2500</td>\n",
              "      <td>529.210</td>\n",
              "      <td>16382400</td>\n",
              "      <td>16.184146</td>\n",
              "      <td>16.386868</td>\n",
              "      <td>16.059063</td>\n",
              "      <td>16.304301</td>\n",
              "      <td>458707658</td>\n",
              "      <td>0.0</td>\n",
              "      <td>1.0</td>\n",
              "    </tr>\n",
              "    <tr>\n",
              "      <th>...</th>\n",
              "      <td>...</td>\n",
              "      <td>...</td>\n",
              "      <td>...</td>\n",
              "      <td>...</td>\n",
              "      <td>...</td>\n",
              "      <td>...</td>\n",
              "      <td>...</td>\n",
              "      <td>...</td>\n",
              "      <td>...</td>\n",
              "      <td>...</td>\n",
              "      <td>...</td>\n",
              "      <td>...</td>\n",
              "      <td>...</td>\n",
              "      <td>...</td>\n",
              "    </tr>\n",
              "    <tr>\n",
              "      <th>2387</th>\n",
              "      <td>AAPL</td>\n",
              "      <td>2022-06-27 00:00:00+00:00</td>\n",
              "      <td>141.6600</td>\n",
              "      <td>143.4900</td>\n",
              "      <td>140.9650</td>\n",
              "      <td>142.695</td>\n",
              "      <td>70207908</td>\n",
              "      <td>141.660000</td>\n",
              "      <td>143.490000</td>\n",
              "      <td>140.965000</td>\n",
              "      <td>142.695000</td>\n",
              "      <td>70207908</td>\n",
              "      <td>0.0</td>\n",
              "      <td>1.0</td>\n",
              "    </tr>\n",
              "    <tr>\n",
              "      <th>2388</th>\n",
              "      <td>AAPL</td>\n",
              "      <td>2022-06-28 00:00:00+00:00</td>\n",
              "      <td>137.4400</td>\n",
              "      <td>143.4220</td>\n",
              "      <td>137.3250</td>\n",
              "      <td>142.130</td>\n",
              "      <td>67315328</td>\n",
              "      <td>137.440000</td>\n",
              "      <td>143.422000</td>\n",
              "      <td>137.325000</td>\n",
              "      <td>142.130000</td>\n",
              "      <td>67315328</td>\n",
              "      <td>0.0</td>\n",
              "      <td>1.0</td>\n",
              "    </tr>\n",
              "    <tr>\n",
              "      <th>2389</th>\n",
              "      <td>AAPL</td>\n",
              "      <td>2022-06-29 00:00:00+00:00</td>\n",
              "      <td>139.2300</td>\n",
              "      <td>140.6700</td>\n",
              "      <td>136.6700</td>\n",
              "      <td>137.460</td>\n",
              "      <td>66242411</td>\n",
              "      <td>139.230000</td>\n",
              "      <td>140.670000</td>\n",
              "      <td>136.670000</td>\n",
              "      <td>137.460000</td>\n",
              "      <td>66242411</td>\n",
              "      <td>0.0</td>\n",
              "      <td>1.0</td>\n",
              "    </tr>\n",
              "    <tr>\n",
              "      <th>2390</th>\n",
              "      <td>AAPL</td>\n",
              "      <td>2022-06-30 00:00:00+00:00</td>\n",
              "      <td>136.7200</td>\n",
              "      <td>138.3700</td>\n",
              "      <td>133.7737</td>\n",
              "      <td>137.250</td>\n",
              "      <td>98964467</td>\n",
              "      <td>136.720000</td>\n",
              "      <td>138.370000</td>\n",
              "      <td>133.773700</td>\n",
              "      <td>137.250000</td>\n",
              "      <td>98964467</td>\n",
              "      <td>0.0</td>\n",
              "      <td>1.0</td>\n",
              "    </tr>\n",
              "    <tr>\n",
              "      <th>2391</th>\n",
              "      <td>AAPL</td>\n",
              "      <td>2022-07-01 00:00:00+00:00</td>\n",
              "      <td>138.9300</td>\n",
              "      <td>139.0400</td>\n",
              "      <td>135.6600</td>\n",
              "      <td>136.040</td>\n",
              "      <td>71051552</td>\n",
              "      <td>138.930000</td>\n",
              "      <td>139.040000</td>\n",
              "      <td>135.660000</td>\n",
              "      <td>136.040000</td>\n",
              "      <td>71051552</td>\n",
              "      <td>0.0</td>\n",
              "      <td>1.0</td>\n",
              "    </tr>\n",
              "  </tbody>\n",
              "</table>\n",
              "<p>2392 rows × 14 columns</p>\n",
              "</div>\n",
              "      <button class=\"colab-df-convert\" onclick=\"convertToInteractive('df-63a05635-7e3c-4135-b909-2b72667dd5f5')\"\n",
              "              title=\"Convert this dataframe to an interactive table.\"\n",
              "              style=\"display:none;\">\n",
              "        \n",
              "  <svg xmlns=\"http://www.w3.org/2000/svg\" height=\"24px\"viewBox=\"0 0 24 24\"\n",
              "       width=\"24px\">\n",
              "    <path d=\"M0 0h24v24H0V0z\" fill=\"none\"/>\n",
              "    <path d=\"M18.56 5.44l.94 2.06.94-2.06 2.06-.94-2.06-.94-.94-2.06-.94 2.06-2.06.94zm-11 1L8.5 8.5l.94-2.06 2.06-.94-2.06-.94L8.5 2.5l-.94 2.06-2.06.94zm10 10l.94 2.06.94-2.06 2.06-.94-2.06-.94-.94-2.06-.94 2.06-2.06.94z\"/><path d=\"M17.41 7.96l-1.37-1.37c-.4-.4-.92-.59-1.43-.59-.52 0-1.04.2-1.43.59L10.3 9.45l-7.72 7.72c-.78.78-.78 2.05 0 2.83L4 21.41c.39.39.9.59 1.41.59.51 0 1.02-.2 1.41-.59l7.78-7.78 2.81-2.81c.8-.78.8-2.07 0-2.86zM5.41 20L4 18.59l7.72-7.72 1.47 1.35L5.41 20z\"/>\n",
              "  </svg>\n",
              "      </button>\n",
              "      \n",
              "  <style>\n",
              "    .colab-df-container {\n",
              "      display:flex;\n",
              "      flex-wrap:wrap;\n",
              "      gap: 12px;\n",
              "    }\n",
              "\n",
              "    .colab-df-convert {\n",
              "      background-color: #E8F0FE;\n",
              "      border: none;\n",
              "      border-radius: 50%;\n",
              "      cursor: pointer;\n",
              "      display: none;\n",
              "      fill: #1967D2;\n",
              "      height: 32px;\n",
              "      padding: 0 0 0 0;\n",
              "      width: 32px;\n",
              "    }\n",
              "\n",
              "    .colab-df-convert:hover {\n",
              "      background-color: #E2EBFA;\n",
              "      box-shadow: 0px 1px 2px rgba(60, 64, 67, 0.3), 0px 1px 3px 1px rgba(60, 64, 67, 0.15);\n",
              "      fill: #174EA6;\n",
              "    }\n",
              "\n",
              "    [theme=dark] .colab-df-convert {\n",
              "      background-color: #3B4455;\n",
              "      fill: #D2E3FC;\n",
              "    }\n",
              "\n",
              "    [theme=dark] .colab-df-convert:hover {\n",
              "      background-color: #434B5C;\n",
              "      box-shadow: 0px 1px 3px 1px rgba(0, 0, 0, 0.15);\n",
              "      filter: drop-shadow(0px 1px 2px rgba(0, 0, 0, 0.3));\n",
              "      fill: #FFFFFF;\n",
              "    }\n",
              "  </style>\n",
              "\n",
              "      <script>\n",
              "        const buttonEl =\n",
              "          document.querySelector('#df-63a05635-7e3c-4135-b909-2b72667dd5f5 button.colab-df-convert');\n",
              "        buttonEl.style.display =\n",
              "          google.colab.kernel.accessAllowed ? 'block' : 'none';\n",
              "\n",
              "        async function convertToInteractive(key) {\n",
              "          const element = document.querySelector('#df-63a05635-7e3c-4135-b909-2b72667dd5f5');\n",
              "          const dataTable =\n",
              "            await google.colab.kernel.invokeFunction('convertToInteractive',\n",
              "                                                     [key], {});\n",
              "          if (!dataTable) return;\n",
              "\n",
              "          const docLinkHtml = 'Like what you see? Visit the ' +\n",
              "            '<a target=\"_blank\" href=https://colab.research.google.com/notebooks/data_table.ipynb>data table notebook</a>'\n",
              "            + ' to learn more about interactive tables.';\n",
              "          element.innerHTML = '';\n",
              "          dataTable['output_type'] = 'display_data';\n",
              "          await google.colab.output.renderOutput(dataTable, element);\n",
              "          const docLink = document.createElement('div');\n",
              "          docLink.innerHTML = docLinkHtml;\n",
              "          element.appendChild(docLink);\n",
              "        }\n",
              "      </script>\n",
              "    </div>\n",
              "  </div>\n",
              "  "
            ]
          },
          "metadata": {},
          "execution_count": 114
        }
      ],
      "source": [
        "dataset_train"
      ]
    },
    {
      "cell_type": "markdown",
      "metadata": {
        "id": "HT8_2UJegtG5"
      },
      "source": [
        "### Feature Scaling"
      ]
    },
    {
      "cell_type": "code",
      "execution_count": null,
      "metadata": {
        "id": "OTrF2kR7gx9x"
      },
      "outputs": [],
      "source": [
        "from sklearn.preprocessing import MinMaxScaler\n",
        "sc = MinMaxScaler(feature_range = (0, 1))\n",
        "training_set_scaled = sc.fit_transform(training_set)"
      ]
    },
    {
      "cell_type": "markdown",
      "metadata": {
        "id": "JyYgYocqhNUg"
      },
      "source": [
        "### Creating a data structure with 60 timesteps and 1 output"
      ]
    },
    {
      "cell_type": "code",
      "execution_count": null,
      "metadata": {
        "id": "iofU21B0i6ST"
      },
      "outputs": [],
      "source": [
        "X_train = []\n",
        "y_train = []\n",
        "for i in range(60, len(training_set_scaled)):\n",
        "    X_train.append(training_set_scaled[i-60:i, 0])\n",
        "    y_train.append(training_set_scaled[i, 0])\n",
        "X_train, y_train = np.array(X_train), np.array(y_train)"
      ]
    },
    {
      "cell_type": "code",
      "execution_count": null,
      "metadata": {
        "id": "bhc5R3XK9BMF"
      },
      "outputs": [],
      "source": [
        "n=len(X_train)-730\n",
        "X_train,X_test,y_train,y_test=X_train[:n],X_train[n:],y_train[:n],y_train[n:]"
      ]
    },
    {
      "cell_type": "markdown",
      "metadata": {
        "id": "D8yaN7Zvi95l"
      },
      "source": [
        "### Reshaping"
      ]
    },
    {
      "cell_type": "code",
      "execution_count": null,
      "metadata": {
        "id": "FOXqJHmNjBkz"
      },
      "outputs": [],
      "source": [
        "X_train = np.reshape(X_train, (X_train.shape[0], X_train.shape[1], 1))"
      ]
    },
    {
      "cell_type": "code",
      "execution_count": null,
      "metadata": {
        "colab": {
          "base_uri": "https://localhost:8080/"
        },
        "id": "0VLZ7uUO9BMH",
        "outputId": "724bea31-e058-4ef5-ba4b-69491b6c6123"
      },
      "outputs": [
        {
          "output_type": "stream",
          "name": "stdout",
          "text": [
            "(1602, 60, 1) (1602,)\n"
          ]
        }
      ],
      "source": [
        "print(X_train.shape,y_train.shape)"
      ]
    },
    {
      "cell_type": "markdown",
      "metadata": {
        "id": "k4XV88JMjHXG"
      },
      "source": [
        "### Importing the Keras libraries and packages"
      ]
    },
    {
      "cell_type": "code",
      "execution_count": null,
      "metadata": {
        "id": "9JRnqsxEjKsD"
      },
      "outputs": [],
      "source": [
        "from keras.models import Sequential\n",
        "from keras.layers import Dense\n",
        "from keras.layers import LSTM\n",
        "from keras.layers import Dropout"
      ]
    },
    {
      "cell_type": "markdown",
      "metadata": {
        "id": "FEIE-1s9jNzC"
      },
      "source": [
        "### Initialising the RNN"
      ]
    },
    {
      "cell_type": "code",
      "execution_count": null,
      "metadata": {
        "id": "1338dJ0UjRKH"
      },
      "outputs": [],
      "source": [
        "regressor = Sequential()"
      ]
    },
    {
      "cell_type": "markdown",
      "metadata": {
        "id": "62eg1OPGjT8z"
      },
      "source": [
        "### Adding the first LSTM layer and some Dropout regularisation"
      ]
    },
    {
      "cell_type": "code",
      "execution_count": null,
      "metadata": {
        "id": "2hIinyXUjbVU"
      },
      "outputs": [],
      "source": [
        "regressor.add(LSTM(units = 500, return_sequences = True, input_shape = (X_train.shape[1], 1)))\n",
        "regressor.add(Dropout(0.2))#to prevent overfitting"
      ]
    },
    {
      "cell_type": "markdown",
      "metadata": {
        "id": "3XBIYLyOjlMx"
      },
      "source": [
        "### Adding a second LSTM layer and some Dropout regularisation"
      ]
    },
    {
      "cell_type": "code",
      "execution_count": null,
      "metadata": {
        "id": "UG7nrVaSjuZ2"
      },
      "outputs": [],
      "source": [
        "regressor.add(LSTM(units = 500, return_sequences = True))\n",
        "regressor.add(Dropout(0.2))"
      ]
    },
    {
      "cell_type": "markdown",
      "metadata": {
        "id": "Ey3fHVnGj1cu"
      },
      "source": [
        "### Adding a third LSTM layer and some Dropout regularisation"
      ]
    },
    {
      "cell_type": "code",
      "execution_count": null,
      "metadata": {
        "id": "PuNi6PgFj7jO"
      },
      "outputs": [],
      "source": [
        "regressor.add(LSTM(units =500, return_sequences = True))\n",
        "regressor.add(Dropout(0.2))"
      ]
    },
    {
      "cell_type": "markdown",
      "metadata": {
        "id": "SYTrtfTmj933"
      },
      "source": [
        "### Adding a fourth LSTM layer and some Dropout regularisation"
      ]
    },
    {
      "cell_type": "code",
      "execution_count": null,
      "metadata": {
        "id": "Jp4Ty8fRkBYV"
      },
      "outputs": [],
      "source": [
        "regressor.add(LSTM(units = 500))\n",
        "regressor.add(Dropout(0.2))"
      ]
    },
    {
      "cell_type": "markdown",
      "metadata": {
        "id": "9ABI6rOIkHhk"
      },
      "source": [
        "### Adding the output layer"
      ]
    },
    {
      "cell_type": "code",
      "execution_count": null,
      "metadata": {
        "id": "aM6R1z4WkME8"
      },
      "outputs": [],
      "source": [
        "regressor.add(Dense(units = 1))"
      ]
    },
    {
      "cell_type": "markdown",
      "metadata": {
        "id": "zLx4K7uUkPSh"
      },
      "source": [
        "### Compiling the RNN"
      ]
    },
    {
      "cell_type": "code",
      "execution_count": null,
      "metadata": {
        "id": "XTrhVN-tkbko"
      },
      "outputs": [],
      "source": [
        "regressor.compile(optimizer = 'adam', loss = 'mean_squared_error',metrics=[\"cosine_similarity\"])"
      ]
    },
    {
      "cell_type": "code",
      "execution_count": null,
      "metadata": {
        "colab": {
          "base_uri": "https://localhost:8080/"
        },
        "id": "SVQSLIWB9BMQ",
        "outputId": "a92eda8a-6423-467e-dd96-1e599daaf63a"
      },
      "outputs": [
        {
          "output_type": "stream",
          "name": "stdout",
          "text": [
            "Model: \"sequential_5\"\n",
            "_________________________________________________________________\n",
            " Layer (type)                Output Shape              Param #   \n",
            "=================================================================\n",
            " lstm_20 (LSTM)              (None, 60, 500)           1004000   \n",
            "                                                                 \n",
            " dropout_20 (Dropout)        (None, 60, 500)           0         \n",
            "                                                                 \n",
            " lstm_21 (LSTM)              (None, 60, 500)           2002000   \n",
            "                                                                 \n",
            " dropout_21 (Dropout)        (None, 60, 500)           0         \n",
            "                                                                 \n",
            " lstm_22 (LSTM)              (None, 60, 500)           2002000   \n",
            "                                                                 \n",
            " dropout_22 (Dropout)        (None, 60, 500)           0         \n",
            "                                                                 \n",
            " lstm_23 (LSTM)              (None, 500)               2002000   \n",
            "                                                                 \n",
            " dropout_23 (Dropout)        (None, 500)               0         \n",
            "                                                                 \n",
            " dense_5 (Dense)             (None, 1)                 501       \n",
            "                                                                 \n",
            "=================================================================\n",
            "Total params: 7,010,501\n",
            "Trainable params: 7,010,501\n",
            "Non-trainable params: 0\n",
            "_________________________________________________________________\n"
          ]
        }
      ],
      "source": [
        "regressor.summary()"
      ]
    },
    {
      "cell_type": "markdown",
      "metadata": {
        "id": "-mPhwKGkkebi"
      },
      "source": [
        "### Fitting the RNN to the Training set"
      ]
    },
    {
      "cell_type": "code",
      "execution_count": null,
      "metadata": {
        "colab": {
          "base_uri": "https://localhost:8080/"
        },
        "id": "I06Nkrz5kkb-",
        "outputId": "aa85f328-dc60-49b9-db43-7ddde5daccc4"
      },
      "outputs": [
        {
          "output_type": "stream",
          "name": "stdout",
          "text": [
            "Epoch 1/100\n",
            "51/51 [==============================] - 2s 43ms/step - loss: 0.0015 - cosine_similarity: 0.9295\n",
            "Epoch 2/100\n",
            "51/51 [==============================] - 2s 41ms/step - loss: 0.0011 - cosine_similarity: 0.9607\n",
            "Epoch 3/100\n",
            "51/51 [==============================] - 2s 41ms/step - loss: 0.0013 - cosine_similarity: 0.9494\n",
            "Epoch 4/100\n",
            "51/51 [==============================] - 2s 42ms/step - loss: 0.0013 - cosine_similarity: 0.9544\n",
            "Epoch 5/100\n",
            "51/51 [==============================] - 2s 42ms/step - loss: 0.0011 - cosine_similarity: 0.9519\n",
            "Epoch 6/100\n",
            "51/51 [==============================] - 2s 42ms/step - loss: 0.0014 - cosine_similarity: 0.9544\n",
            "Epoch 7/100\n",
            "51/51 [==============================] - 2s 43ms/step - loss: 0.0011 - cosine_similarity: 0.9669\n",
            "Epoch 8/100\n",
            "51/51 [==============================] - 2s 43ms/step - loss: 0.0013 - cosine_similarity: 0.9607\n",
            "Epoch 9/100\n",
            "51/51 [==============================] - 2s 43ms/step - loss: 0.0011 - cosine_similarity: 0.9694\n",
            "Epoch 10/100\n",
            "51/51 [==============================] - 2s 44ms/step - loss: 0.0019 - cosine_similarity: 0.9245\n",
            "Epoch 11/100\n",
            "51/51 [==============================] - 2s 44ms/step - loss: 0.0013 - cosine_similarity: 0.9507\n",
            "Epoch 12/100\n",
            "51/51 [==============================] - 2s 43ms/step - loss: 0.0012 - cosine_similarity: 0.9594\n",
            "Epoch 13/100\n",
            "51/51 [==============================] - 2s 43ms/step - loss: 0.0012 - cosine_similarity: 0.9594\n",
            "Epoch 14/100\n",
            "51/51 [==============================] - 2s 43ms/step - loss: 0.0013 - cosine_similarity: 0.9494\n",
            "Epoch 15/100\n",
            "51/51 [==============================] - 2s 43ms/step - loss: 0.0013 - cosine_similarity: 0.9557\n",
            "Epoch 16/100\n",
            "51/51 [==============================] - 2s 43ms/step - loss: 0.0016 - cosine_similarity: 0.9395\n",
            "Epoch 17/100\n",
            "51/51 [==============================] - 2s 43ms/step - loss: 0.0014 - cosine_similarity: 0.9532\n",
            "Epoch 18/100\n",
            "51/51 [==============================] - 2s 44ms/step - loss: 9.9940e-04 - cosine_similarity: 0.9532\n",
            "Epoch 19/100\n",
            "51/51 [==============================] - 2s 43ms/step - loss: 0.0012 - cosine_similarity: 0.9557\n",
            "Epoch 20/100\n",
            "51/51 [==============================] - 2s 43ms/step - loss: 0.0014 - cosine_similarity: 0.9419\n",
            "Epoch 21/100\n",
            "51/51 [==============================] - 2s 43ms/step - loss: 0.0010 - cosine_similarity: 0.9657\n",
            "Epoch 22/100\n",
            "51/51 [==============================] - 2s 43ms/step - loss: 0.0012 - cosine_similarity: 0.9432\n",
            "Epoch 23/100\n",
            "51/51 [==============================] - 2s 43ms/step - loss: 0.0013 - cosine_similarity: 0.9419\n",
            "Epoch 24/100\n",
            "51/51 [==============================] - 2s 45ms/step - loss: 0.0012 - cosine_similarity: 0.9557\n",
            "Epoch 25/100\n",
            "51/51 [==============================] - 2s 44ms/step - loss: 0.0013 - cosine_similarity: 0.9594\n",
            "Epoch 26/100\n",
            "51/51 [==============================] - 2s 44ms/step - loss: 0.0016 - cosine_similarity: 0.9407\n",
            "Epoch 27/100\n",
            "51/51 [==============================] - 2s 46ms/step - loss: 0.0011 - cosine_similarity: 0.9494\n",
            "Epoch 28/100\n",
            "51/51 [==============================] - 2s 43ms/step - loss: 0.0013 - cosine_similarity: 0.9632\n",
            "Epoch 29/100\n",
            "51/51 [==============================] - 2s 44ms/step - loss: 0.0012 - cosine_similarity: 0.9320\n",
            "Epoch 30/100\n",
            "51/51 [==============================] - 2s 44ms/step - loss: 0.0012 - cosine_similarity: 0.9482\n",
            "Epoch 31/100\n",
            "51/51 [==============================] - 2s 42ms/step - loss: 0.0011 - cosine_similarity: 0.9444\n",
            "Epoch 32/100\n",
            "51/51 [==============================] - 2s 42ms/step - loss: 0.0012 - cosine_similarity: 0.9519\n",
            "Epoch 33/100\n",
            "51/51 [==============================] - 2s 41ms/step - loss: 0.0011 - cosine_similarity: 0.9569\n",
            "Epoch 34/100\n",
            "51/51 [==============================] - 2s 42ms/step - loss: 0.0010 - cosine_similarity: 0.9457\n",
            "Epoch 35/100\n",
            "51/51 [==============================] - 2s 42ms/step - loss: 0.0014 - cosine_similarity: 0.9432\n",
            "Epoch 36/100\n",
            "51/51 [==============================] - 2s 42ms/step - loss: 0.0016 - cosine_similarity: 0.9419\n",
            "Epoch 37/100\n",
            "51/51 [==============================] - 2s 43ms/step - loss: 0.0012 - cosine_similarity: 0.9432\n",
            "Epoch 38/100\n",
            "51/51 [==============================] - 2s 41ms/step - loss: 0.0013 - cosine_similarity: 0.9482\n",
            "Epoch 39/100\n",
            "51/51 [==============================] - 2s 42ms/step - loss: 0.0011 - cosine_similarity: 0.9607\n",
            "Epoch 40/100\n",
            "51/51 [==============================] - 2s 42ms/step - loss: 0.0011 - cosine_similarity: 0.9457\n",
            "Epoch 41/100\n",
            "51/51 [==============================] - 2s 42ms/step - loss: 0.0013 - cosine_similarity: 0.9557\n",
            "Epoch 42/100\n",
            "51/51 [==============================] - 2s 42ms/step - loss: 0.0012 - cosine_similarity: 0.9507\n",
            "Epoch 43/100\n",
            "51/51 [==============================] - 2s 42ms/step - loss: 0.0012 - cosine_similarity: 0.9407\n",
            "Epoch 44/100\n",
            "51/51 [==============================] - 2s 42ms/step - loss: 0.0014 - cosine_similarity: 0.9395\n",
            "Epoch 45/100\n",
            "51/51 [==============================] - 2s 42ms/step - loss: 0.0011 - cosine_similarity: 0.9519\n",
            "Epoch 46/100\n",
            "51/51 [==============================] - 2s 43ms/step - loss: 0.0017 - cosine_similarity: 0.9207\n",
            "Epoch 47/100\n",
            "51/51 [==============================] - 2s 42ms/step - loss: 0.0011 - cosine_similarity: 0.9482\n",
            "Epoch 48/100\n",
            "51/51 [==============================] - 2s 42ms/step - loss: 0.0017 - cosine_similarity: 0.9370\n",
            "Epoch 49/100\n",
            "51/51 [==============================] - 2s 42ms/step - loss: 0.0011 - cosine_similarity: 0.9594\n",
            "Epoch 50/100\n",
            "51/51 [==============================] - 2s 42ms/step - loss: 0.0019 - cosine_similarity: 0.9195\n",
            "Epoch 51/100\n",
            "51/51 [==============================] - 2s 42ms/step - loss: 0.0014 - cosine_similarity: 0.9482\n",
            "Epoch 52/100\n",
            "51/51 [==============================] - 2s 42ms/step - loss: 0.0011 - cosine_similarity: 0.9357\n",
            "Epoch 53/100\n",
            "51/51 [==============================] - 2s 42ms/step - loss: 0.0011 - cosine_similarity: 0.9444\n",
            "Epoch 54/100\n",
            "51/51 [==============================] - 2s 43ms/step - loss: 0.0012 - cosine_similarity: 0.9407\n",
            "Epoch 55/100\n",
            "51/51 [==============================] - 2s 43ms/step - loss: 0.0013 - cosine_similarity: 0.9370\n",
            "Epoch 56/100\n",
            "51/51 [==============================] - 2s 43ms/step - loss: 0.0011 - cosine_similarity: 0.9507\n",
            "Epoch 57/100\n",
            "51/51 [==============================] - 2s 42ms/step - loss: 0.0014 - cosine_similarity: 0.9494\n",
            "Epoch 58/100\n",
            "51/51 [==============================] - 2s 42ms/step - loss: 0.0011 - cosine_similarity: 0.9532\n",
            "Epoch 59/100\n",
            "51/51 [==============================] - 2s 43ms/step - loss: 0.0013 - cosine_similarity: 0.9307\n",
            "Epoch 60/100\n",
            "51/51 [==============================] - 2s 42ms/step - loss: 0.0015 - cosine_similarity: 0.9444\n",
            "Epoch 61/100\n",
            "51/51 [==============================] - 2s 42ms/step - loss: 0.0012 - cosine_similarity: 0.9457\n",
            "Epoch 62/100\n",
            "51/51 [==============================] - 2s 42ms/step - loss: 0.0010 - cosine_similarity: 0.9519\n",
            "Epoch 63/100\n",
            "51/51 [==============================] - 2s 42ms/step - loss: 0.0015 - cosine_similarity: 0.9257\n",
            "Epoch 64/100\n",
            "51/51 [==============================] - 2s 42ms/step - loss: 0.0011 - cosine_similarity: 0.9544\n",
            "Epoch 65/100\n",
            "51/51 [==============================] - 2s 42ms/step - loss: 0.0012 - cosine_similarity: 0.9332\n",
            "Epoch 66/100\n",
            "51/51 [==============================] - 2s 42ms/step - loss: 0.0015 - cosine_similarity: 0.9145\n",
            "Epoch 67/100\n",
            "51/51 [==============================] - 2s 42ms/step - loss: 0.0014 - cosine_similarity: 0.9382\n",
            "Epoch 68/100\n",
            "51/51 [==============================] - 2s 42ms/step - loss: 0.0014 - cosine_similarity: 0.9544\n",
            "Epoch 69/100\n",
            "51/51 [==============================] - 2s 42ms/step - loss: 0.0018 - cosine_similarity: 0.9320\n",
            "Epoch 70/100\n",
            "51/51 [==============================] - 2s 42ms/step - loss: 0.0012 - cosine_similarity: 0.9370\n",
            "Epoch 71/100\n",
            "51/51 [==============================] - 2s 42ms/step - loss: 0.0014 - cosine_similarity: 0.9357\n",
            "Epoch 72/100\n",
            "51/51 [==============================] - 2s 42ms/step - loss: 0.0013 - cosine_similarity: 0.9532\n",
            "Epoch 73/100\n",
            "51/51 [==============================] - 2s 42ms/step - loss: 0.0012 - cosine_similarity: 0.9395\n",
            "Epoch 74/100\n",
            "51/51 [==============================] - 2s 43ms/step - loss: 0.0011 - cosine_similarity: 0.9682\n",
            "Epoch 75/100\n",
            "51/51 [==============================] - 2s 42ms/step - loss: 0.0012 - cosine_similarity: 0.9419\n",
            "Epoch 76/100\n",
            "51/51 [==============================] - 2s 45ms/step - loss: 0.0012 - cosine_similarity: 0.9407\n",
            "Epoch 77/100\n",
            "51/51 [==============================] - 2s 42ms/step - loss: 0.0012 - cosine_similarity: 0.9482\n",
            "Epoch 78/100\n",
            "51/51 [==============================] - 2s 42ms/step - loss: 0.0014 - cosine_similarity: 0.9257\n",
            "Epoch 79/100\n",
            "51/51 [==============================] - 2s 42ms/step - loss: 0.0012 - cosine_similarity: 0.9569\n",
            "Epoch 80/100\n",
            "51/51 [==============================] - 2s 42ms/step - loss: 0.0013 - cosine_similarity: 0.9320\n",
            "Epoch 81/100\n",
            "51/51 [==============================] - 2s 42ms/step - loss: 0.0010 - cosine_similarity: 0.9494\n",
            "Epoch 82/100\n",
            "51/51 [==============================] - 2s 42ms/step - loss: 0.0015 - cosine_similarity: 0.9407\n",
            "Epoch 83/100\n",
            "51/51 [==============================] - 2s 42ms/step - loss: 0.0012 - cosine_similarity: 0.9457\n",
            "Epoch 84/100\n",
            "51/51 [==============================] - 2s 46ms/step - loss: 0.0013 - cosine_similarity: 0.9457\n",
            "Epoch 85/100\n",
            "51/51 [==============================] - 2s 44ms/step - loss: 0.0014 - cosine_similarity: 0.9320\n",
            "Epoch 86/100\n",
            "51/51 [==============================] - 2s 42ms/step - loss: 0.0013 - cosine_similarity: 0.9457\n",
            "Epoch 87/100\n",
            "51/51 [==============================] - 2s 42ms/step - loss: 0.0013 - cosine_similarity: 0.9444\n",
            "Epoch 88/100\n",
            "51/51 [==============================] - 2s 42ms/step - loss: 0.0016 - cosine_similarity: 0.9444\n",
            "Epoch 89/100\n",
            "51/51 [==============================] - 2s 42ms/step - loss: 9.5895e-04 - cosine_similarity: 0.9507\n",
            "Epoch 90/100\n",
            "51/51 [==============================] - 2s 42ms/step - loss: 0.0011 - cosine_similarity: 0.9607\n",
            "Epoch 91/100\n",
            "51/51 [==============================] - 2s 42ms/step - loss: 0.0013 - cosine_similarity: 0.9407\n",
            "Epoch 92/100\n",
            "51/51 [==============================] - 2s 42ms/step - loss: 0.0012 - cosine_similarity: 0.9444\n",
            "Epoch 93/100\n",
            "51/51 [==============================] - 2s 42ms/step - loss: 0.0015 - cosine_similarity: 0.9432\n",
            "Epoch 94/100\n",
            "51/51 [==============================] - 2s 42ms/step - loss: 0.0011 - cosine_similarity: 0.9532\n",
            "Epoch 95/100\n",
            "51/51 [==============================] - 2s 42ms/step - loss: 9.6985e-04 - cosine_similarity: 0.9657\n",
            "Epoch 96/100\n",
            "51/51 [==============================] - 2s 42ms/step - loss: 0.0036 - cosine_similarity: 0.9382\n",
            "Epoch 97/100\n",
            "51/51 [==============================] - 2s 42ms/step - loss: 0.0025 - cosine_similarity: 0.9519\n",
            "Epoch 98/100\n",
            "51/51 [==============================] - 2s 42ms/step - loss: 0.0014 - cosine_similarity: 0.9532\n",
            "Epoch 99/100\n",
            "51/51 [==============================] - 2s 42ms/step - loss: 0.0016 - cosine_similarity: 0.9182\n",
            "Epoch 100/100\n",
            "51/51 [==============================] - 2s 42ms/step - loss: 0.0012 - cosine_similarity: 0.9619\n"
          ]
        },
        {
          "output_type": "execute_result",
          "data": {
            "text/plain": [
              "<keras.callbacks.History at 0x7f3b0687b510>"
            ]
          },
          "metadata": {},
          "execution_count": 136
        }
      ],
      "source": [
        "regressor.fit(X_train, y_train, epochs = 100, batch_size = 32,verbose=1)"
      ]
    },
    {
      "cell_type": "markdown",
      "metadata": {
        "id": "4hRau_lIkrE8"
      },
      "source": [
        "## Part 3 - Making the predictions and visualising the results"
      ]
    },
    {
      "cell_type": "markdown",
      "metadata": {
        "id": "SgJO6qEDksxD"
      },
      "source": [
        "### Getting the real stock price of 2017"
      ]
    },
    {
      "cell_type": "code",
      "execution_count": null,
      "metadata": {
        "id": "FmBT2zqukxTz"
      },
      "outputs": [],
      "source": [
        "dataset_test = pd.read_csv('AAPL (1).csv')\n",
        "real_stock_price = dataset_test.iloc[n+60:, 5:6].values"
      ]
    },
    {
      "cell_type": "markdown",
      "metadata": {
        "id": "GrvrLblxkz42"
      },
      "source": [
        "### Getting the predicted stock price of 2017"
      ]
    },
    {
      "cell_type": "code",
      "execution_count": null,
      "metadata": {
        "id": "emikTvUpk3Ck"
      },
      "outputs": [],
      "source": [
        "inputs=X_test\n",
        "X_test = np.reshape(X_test, (X_test.shape[0], X_test.shape[1], 1))\n",
        "predicted_stock_price = regressor.predict(X_test)\n",
        "predicted_stock_price = sc.inverse_transform(predicted_stock_price)"
      ]
    },
    {
      "cell_type": "markdown",
      "metadata": {
        "id": "iFTNs3YHk6FQ"
      },
      "source": [
        "### Visualising the results"
      ]
    },
    {
      "cell_type": "code",
      "execution_count": null,
      "metadata": {
        "colab": {
          "base_uri": "https://localhost:8080/",
          "height": 1000
        },
        "id": "8OUI8U49k9tH",
        "outputId": "6910261d-90da-4a1b-f947-08f71c9d0102"
      },
      "outputs": [
        {
          "output_type": "display_data",
          "data": {
            "text/plain": [
              "<Figure size 1440x1440 with 1 Axes>"
            ],
            "image/png": "[encoded data removed]"
          },
          "metadata": {
            "needs_background": "light"
          }
        }
      ],
      "source": [
        "plt.figure(figsize=(20,20))\n",
        "plt.plot(real_stock_price, color = 'red', label = 'Real apple Stock Price')\n",
        "plt.plot(predicted_stock_price, color = 'blue', label = 'Predicted apple Stock Price')\n",
        "plt.title('apple Stock Price Prediction')\n",
        "plt.xlabel('Time')\n",
        "plt.ylabel('apple Stock Price')\n",
        "plt.legend()\n",
        "plt.show()"
      ]
    },
    {
      "cell_type": "markdown",
      "metadata": {
        "id": "G-iNp-6I9BMW"
      },
      "source": [
        "# Part 4: Optimal path"
      ]
    },
    {
      "cell_type": "markdown",
      "metadata": {
        "id": "H-0IjXA49BMX"
      },
      "source": [
        "# Finding the optimal buy and sell days to obtain the most profit based on the predicted values"
      ]
    },
    {
      "cell_type": "code",
      "execution_count": null,
      "metadata": {
        "id": "YRFIxN2r9BMX"
      },
      "outputs": [],
      "source": [
        "def optimal(prices,n=30):\n",
        "    '''Returns a list  of elements of [buy day, sell day] for maximum profit possible , Human count'''\n",
        "    i =0\n",
        "    profit = 0\n",
        "    ans = list() #buy, sell day\n",
        "    while i<(n-1):\n",
        "        \n",
        "        while (i < (n-2)) and prices[i]>prices[i+1]:\n",
        "            i+=1\n",
        "        buy = i\n",
        "        i+=1\n",
        "        \n",
        "        while (i< (n-2)) and prices[i]<prices[i+1]:\n",
        "            i+=1\n",
        "        sell = i\n",
        "        i+=1\n",
        "        if buy == n-1: \n",
        "            return ans\n",
        "        ans.append([buy+1,sell+1])\n",
        "        profit+= prices[sell] - prices[buy]\n",
        "    return ans\n"
      ]
    },
    {
      "cell_type": "markdown",
      "metadata": {
        "id": "G53u5N5m9BMY"
      },
      "source": [
        "# Using predicted buy/sell days on actual prices"
      ]
    },
    {
      "cell_type": "code",
      "execution_count": null,
      "metadata": {
        "id": "B82hLj-R9BMY"
      },
      "outputs": [],
      "source": [
        "def check(actual,predicted):\n",
        "    p = optimal(predicted)\n",
        "    tot=0\n",
        "    for i in p:\n",
        "        tot = actual[i[1]-1]- actual[i[0]-1]\n",
        "    return tot"
      ]
    },
    {
      "cell_type": "code",
      "execution_count": null,
      "metadata": {
        "colab": {
          "base_uri": "https://localhost:8080/"
        },
        "id": "bEAFxMqR9BMa",
        "outputId": "51830be0-8d98-4b96-d3fd-5de9c8b46d6a"
      },
      "outputs": [
        {
          "output_type": "stream",
          "name": "stdout",
          "text": [
            "Buy day\tSell day\n",
            "1 \t 11\n",
            "15 \t 17\n",
            "18 \t 25\n",
            "29 \t 30\n",
            "Total profit earned over last 30 days while following the above path = $ 4.280000000000001\n"
          ]
        }
      ],
      "source": [
        "print('Buy day\\tSell day')\n",
        "predicted=np.reshape(predicted_stock_price[:30],newshape=30)\n",
        "for i in optimal(predicted):\n",
        "    print(i[0],'\\t',i[1])\n",
        "print('Total profit earned over last 30 days while following the above path = $',check(actual=np.reshape(real_stock_price[:30],newshape=30),predicted=np.reshape(real_stock_price[:30],newshape=30)))"
      ]
    },
    {
      "cell_type": "code",
      "execution_count": null,
      "metadata": {
        "colab": {
          "base_uri": "https://localhost:8080/"
        },
        "id": "sBjTWT-h9BMZ",
        "outputId": "5a37b983-ad71-4348-812b-bdc9fac7808b"
      },
      "outputs": [
        {
          "output_type": "stream",
          "name": "stdout",
          "text": [
            "Hence the total profit earned over 2 year is $ 92.14499999999991\n"
          ]
        }
      ],
      "source": [
        "profit=0\n",
        "for i in range(30,len(predicted_stock_price),30):\n",
        "    profit+=check(actual=np.reshape(real_stock_price[i-30:i],newshape=30),predicted=np.reshape(real_stock_price[i-30:i],newshape=30))\n",
        "print(\"Hence the total profit earned over 2 year is $\",profit)"
      ]
    }
  ],
  "metadata": {
    "colab": {
      "collapsed_sections": [],
      "name": "rnn.ipynb",
      "provenance": [],
      "include_colab_link": true
    },
    "kernelspec": {
      "display_name": "Python 3 (ipykernel)",
      "language": "python",
      "name": "python3"
    },
    "language_info": {
      "codemirror_mode": {
        "name": "ipython",
        "version": 3
      },
      "file_extension": ".py",
      "mimetype": "text/x-python",
      "name": "python",
      "nbconvert_exporter": "python",
      "pygments_lexer": "ipython3",
      "version": "3.9.7"
    },
    "accelerator": "GPU",
    "gpuClass": "standard"
  },
  "nbformat": 4,
  "nbformat_minor": 0
}